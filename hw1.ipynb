{
 "cells": [
  {
   "cell_type": "markdown",
   "metadata": {},
   "source": [
    "# Homework 1\n",
    "### 1. LFD Problem 1.3\n",
    "- (a) Let $ \\rho = min_{1\\leq n \\leq N}$ $ y_n(\\mathbf{w^*}^T\\mathbf{x}_n) $. Show that $\\rho > 0$.  \n",
    "<br>\n",
    "\n",
    "If $\\mathbf{w}$ is the optimal weight vector, $\\mathbf{w^*}$, then:  \n",
    "<br>\n",
    "  $y_n = sign(\\mathbf{w^*}^T\\mathbf{x}_n)$.  \n",
    "<br>\n",
    "Therefore, if $\\mathbf{w^*}^T\\mathbf{x}_n$ is positive, then $y_n$ will be positive.  \n",
    "Also, if $\\mathbf{w^*}^T\\mathbf{x}_n$ is negative, then $y_n$ will be negative as well. \n",
    "<br> \n",
    "These are the only possible cases. Neither combination can generate a negative value:  \n",
    "<br>  \n",
    "|$\\mathbf{w^*}^T\\mathbf{x}_n $ | $y_n$ | $\\rho$ |\n",
    "| --- | --- | --- |\n",
    "| + | + | + | \n",
    "| - | - | + |  \n",
    "\n",
    "<br>  \n",
    "\n",
    "This assumes that $\\mathbf{w^*}$ and $\\mathbf{x}$ are not $\\mathbf{0}$.  \n",
    "\n",
    "- (b) Show that $\\mathbf{w}^T(t)\\mathbf{w}^* \\geq \\mathbf{w}^T(t-1)\\mathbf{w^*} + \\rho$, and conclude that $\\mathbf{w}^T(t)\\mathbf{w}^* \\geq t\\rho$.  \n",
    "1. Base case $t=1$.  \n",
    "\n",
    "$\\mathbf{w}^T(1)\\mathbf{w^*} \\geq \\mathbf{w}^T(0)\\mathbf{w^*} + \\rho$  \n",
    "Notice that $ \\mathbf{w}^T(0) = \\mathbf{0}$ and that $\\mathbf{w}(t) = \\mathbf{w}(t-1)+ y(t-1)\\mathbf{x}(t)$ and get:  \n",
    "$y_i\\mathbf{x}_i^T\\mathbf{w^*} \\geq \\rho$. This will always hold because $\\rho$ is the minimum of $y_i\\mathbf{x}_i^T\\mathbf{w^*}$ across all $i$, so it will at the very least always be equal to the left side.  \n",
    "\n",
    "2. Assume $t$, prove for $t+1$.  \n",
    "\n",
    "$\\mathbf{w}^T(t+1)\\mathbf{w}^* \\geq \\mathbf{w}^T(t)\\mathbf{w^*} + \\rho$  \n",
    "By definition, the update rule (with both sides multiplied by $\\mathbf{w*}$ is:   \n",
    "$\\mathbf{w}^T(t+1)\\mathbf{w}^* = \\mathbf{w}^T(t)\\mathbf{w^*} + y(t)\\mathbf{x}^T\\mathbf{w^*}  $  \n",
    "Subsitute this into both sides to get:  \n",
    "$\\mathbf{w}^T(t)\\mathbf{w^*} + y(t)\\mathbf{x}^T\\mathbf{w^*}  \\geq  \\mathbf{w}^T(t-1)\\mathbf{w^*} + y(t-1)\\mathbf{x}^T\\mathbf{w^*} + \\rho$  \n",
    "Since $y(t-1) = y(t)$ we can eliminate $y(t-1)\\mathbf{x}^T\\mathbf{w^*}$ and $y(t)\\mathbf{x}^T\\mathbf{w^*}$ from the equation resulting in:  \n",
    "\n",
    "$\\mathbf{w}^T(t)\\mathbf{w}^* \\geq \\mathbf{w}^T(t-1)\\mathbf{w^*} + \\rho$  \n",
    "This is the assumption for $t$. With (1) and (2) we have proved by induction.    \n",
    "\n",
    "\n"
   ]
  }
 ],
 "metadata": {
  "interpreter": {
   "hash": "18ee16ac225ee439bbd6658b1566acb514c96804599d11379eb76ab8403b31cc"
  },
  "kernelspec": {
   "display_name": "Python 3.10.2 64-bit ('py310': conda)",
   "language": "python",
   "name": "python3"
  },
  "language_info": {
   "codemirror_mode": {
    "name": "ipython",
    "version": 3
   },
   "file_extension": ".py",
   "mimetype": "text/x-python",
   "name": "python",
   "nbconvert_exporter": "python",
   "pygments_lexer": "ipython3",
   "version": "3.10.2"
  },
  "orig_nbformat": 4
 },
 "nbformat": 4,
 "nbformat_minor": 2
}
